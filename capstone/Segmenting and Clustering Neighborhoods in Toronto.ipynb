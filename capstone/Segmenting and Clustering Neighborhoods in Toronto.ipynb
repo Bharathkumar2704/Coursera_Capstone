{
 "cells": [
  {
   "cell_type": "markdown",
   "metadata": {},
   "source": [
    "# Segmenting and Clustering Neighbourhoods in Toronto"
   ]
  },
  {
   "cell_type": "markdown",
   "metadata": {},
   "source": [
    "## Importing libraries "
   ]
  },
  {
   "cell_type": "code",
   "execution_count": 1,
   "metadata": {},
   "outputs": [],
   "source": [
    "import pandas as pd\n",
    "import numpy as np\n",
    "import requests"
   ]
  },
  {
   "cell_type": "code",
   "execution_count": 2,
   "metadata": {},
   "outputs": [
    {
     "data": {
      "text/html": [
       "<div>\n",
       "<style scoped>\n",
       "    .dataframe tbody tr th:only-of-type {\n",
       "        vertical-align: middle;\n",
       "    }\n",
       "\n",
       "    .dataframe tbody tr th {\n",
       "        vertical-align: top;\n",
       "    }\n",
       "\n",
       "    .dataframe thead th {\n",
       "        text-align: right;\n",
       "    }\n",
       "</style>\n",
       "<table border=\"1\" class=\"dataframe\">\n",
       "  <thead>\n",
       "    <tr style=\"text-align: right;\">\n",
       "      <th></th>\n",
       "      <th>index</th>\n",
       "      <th>Post Code</th>\n",
       "      <th>Borough</th>\n",
       "      <th>Neighborhood</th>\n",
       "    </tr>\n",
       "  </thead>\n",
       "  <tbody>\n",
       "    <tr>\n",
       "      <th>0</th>\n",
       "      <td>2</td>\n",
       "      <td>M3A</td>\n",
       "      <td>North York</td>\n",
       "      <td>Parkwoods</td>\n",
       "    </tr>\n",
       "    <tr>\n",
       "      <th>1</th>\n",
       "      <td>3</td>\n",
       "      <td>M4A</td>\n",
       "      <td>North York</td>\n",
       "      <td>Victoria Village</td>\n",
       "    </tr>\n",
       "    <tr>\n",
       "      <th>2</th>\n",
       "      <td>4</td>\n",
       "      <td>M5A</td>\n",
       "      <td>Downtown Toronto</td>\n",
       "      <td>Regent Park, Harbourfront</td>\n",
       "    </tr>\n",
       "    <tr>\n",
       "      <th>3</th>\n",
       "      <td>5</td>\n",
       "      <td>M6A</td>\n",
       "      <td>North York</td>\n",
       "      <td>Lawrence Manor, Lawrence Heights</td>\n",
       "    </tr>\n",
       "    <tr>\n",
       "      <th>4</th>\n",
       "      <td>6</td>\n",
       "      <td>M7A</td>\n",
       "      <td>Downtown Toronto</td>\n",
       "      <td>Queen's Park, Ontario Provincial Government</td>\n",
       "    </tr>\n",
       "  </tbody>\n",
       "</table>\n",
       "</div>"
      ],
      "text/plain": [
       "   index Post Code           Borough  \\\n",
       "0      2       M3A        North York   \n",
       "1      3       M4A        North York   \n",
       "2      4       M5A  Downtown Toronto   \n",
       "3      5       M6A        North York   \n",
       "4      6       M7A  Downtown Toronto   \n",
       "\n",
       "                                  Neighborhood  \n",
       "0                                    Parkwoods  \n",
       "1                             Victoria Village  \n",
       "2                    Regent Park, Harbourfront  \n",
       "3             Lawrence Manor, Lawrence Heights  \n",
       "4  Queen's Park, Ontario Provincial Government  "
      ]
     },
     "execution_count": 2,
     "metadata": {},
     "output_type": "execute_result"
    }
   ],
   "source": [
    "wiki = 'https://en.wikipedia.org/wiki/List_of_postal_codes_of_Canada:_M'\n",
    "wiki_page = requests.get(wiki)\n",
    "\n",
    "wiki_raw = pd.read_html(wiki_page.content, header = 0)[0]\n",
    "df = wiki_raw[wiki_raw.Neighborhood != 'Not assigned']\n",
    "df.reset_index(inplace = True)\n",
    "df.head()"
   ]
  },
  {
   "cell_type": "code",
   "execution_count": 4,
   "metadata": {},
   "outputs": [
    {
     "data": {
      "text/html": [
       "<div>\n",
       "<style scoped>\n",
       "    .dataframe tbody tr th:only-of-type {\n",
       "        vertical-align: middle;\n",
       "    }\n",
       "\n",
       "    .dataframe tbody tr th {\n",
       "        vertical-align: top;\n",
       "    }\n",
       "\n",
       "    .dataframe thead th {\n",
       "        text-align: right;\n",
       "    }\n",
       "</style>\n",
       "<table border=\"1\" class=\"dataframe\">\n",
       "  <thead>\n",
       "    <tr style=\"text-align: right;\">\n",
       "      <th></th>\n",
       "      <th>index</th>\n",
       "      <th>Borough</th>\n",
       "      <th>Neighborhood</th>\n",
       "    </tr>\n",
       "    <tr>\n",
       "      <th>Post Code</th>\n",
       "      <th></th>\n",
       "      <th></th>\n",
       "      <th></th>\n",
       "    </tr>\n",
       "  </thead>\n",
       "  <tbody>\n",
       "    <tr>\n",
       "      <th>M1B</th>\n",
       "      <td>9</td>\n",
       "      <td>Scarborough</td>\n",
       "      <td>Malvern, Rouge</td>\n",
       "    </tr>\n",
       "    <tr>\n",
       "      <th>M1C</th>\n",
       "      <td>18</td>\n",
       "      <td>Scarborough</td>\n",
       "      <td>Rouge Hill, Port Union, Highland Creek</td>\n",
       "    </tr>\n",
       "    <tr>\n",
       "      <th>M1E</th>\n",
       "      <td>27</td>\n",
       "      <td>Scarborough</td>\n",
       "      <td>Guildwood, Morningside, West Hill</td>\n",
       "    </tr>\n",
       "    <tr>\n",
       "      <th>M1G</th>\n",
       "      <td>36</td>\n",
       "      <td>Scarborough</td>\n",
       "      <td>Woburn</td>\n",
       "    </tr>\n",
       "    <tr>\n",
       "      <th>M1H</th>\n",
       "      <td>45</td>\n",
       "      <td>Scarborough</td>\n",
       "      <td>Cedarbrae</td>\n",
       "    </tr>\n",
       "    <tr>\n",
       "      <th>...</th>\n",
       "      <td>...</td>\n",
       "      <td>...</td>\n",
       "      <td>...</td>\n",
       "    </tr>\n",
       "    <tr>\n",
       "      <th>M9N</th>\n",
       "      <td>98</td>\n",
       "      <td>York</td>\n",
       "      <td>Weston</td>\n",
       "    </tr>\n",
       "    <tr>\n",
       "      <th>M9P</th>\n",
       "      <td>107</td>\n",
       "      <td>Etobicoke</td>\n",
       "      <td>Westmount</td>\n",
       "    </tr>\n",
       "    <tr>\n",
       "      <th>M9R</th>\n",
       "      <td>116</td>\n",
       "      <td>Etobicoke</td>\n",
       "      <td>Kingsview Village, St. Phillips, Martin Grove ...</td>\n",
       "    </tr>\n",
       "    <tr>\n",
       "      <th>M9V</th>\n",
       "      <td>143</td>\n",
       "      <td>Etobicoke</td>\n",
       "      <td>South Steeles, Silverstone, Humbergate, Jamest...</td>\n",
       "    </tr>\n",
       "    <tr>\n",
       "      <th>M9W</th>\n",
       "      <td>152</td>\n",
       "      <td>Etobicoke</td>\n",
       "      <td>Northwest, West Humber - Clairville</td>\n",
       "    </tr>\n",
       "  </tbody>\n",
       "</table>\n",
       "<p>103 rows × 3 columns</p>\n",
       "</div>"
      ],
      "text/plain": [
       "           index      Borough  \\\n",
       "Post Code                       \n",
       "M1B            9  Scarborough   \n",
       "M1C           18  Scarborough   \n",
       "M1E           27  Scarborough   \n",
       "M1G           36  Scarborough   \n",
       "M1H           45  Scarborough   \n",
       "...          ...          ...   \n",
       "M9N           98         York   \n",
       "M9P          107    Etobicoke   \n",
       "M9R          116    Etobicoke   \n",
       "M9V          143    Etobicoke   \n",
       "M9W          152    Etobicoke   \n",
       "\n",
       "                                                Neighborhood  \n",
       "Post Code                                                     \n",
       "M1B                                           Malvern, Rouge  \n",
       "M1C                   Rouge Hill, Port Union, Highland Creek  \n",
       "M1E                        Guildwood, Morningside, West Hill  \n",
       "M1G                                                   Woburn  \n",
       "M1H                                                Cedarbrae  \n",
       "...                                                      ...  \n",
       "M9N                                                   Weston  \n",
       "M9P                                                Westmount  \n",
       "M9R        Kingsview Village, St. Phillips, Martin Grove ...  \n",
       "M9V        South Steeles, Silverstone, Humbergate, Jamest...  \n",
       "M9W                      Northwest, West Humber - Clairville  \n",
       "\n",
       "[103 rows x 3 columns]"
      ]
     },
     "execution_count": 4,
     "metadata": {},
     "output_type": "execute_result"
    }
   ],
   "source": [
    "df.groupby(['Post Code']).first()"
   ]
  },
  {
   "cell_type": "code",
   "execution_count": 5,
   "metadata": {},
   "outputs": [
    {
     "data": {
      "text/plain": [
       "103"
      ]
     },
     "execution_count": 5,
     "metadata": {},
     "output_type": "execute_result"
    }
   ],
   "source": [
    "len(df['Post Code'].unique())"
   ]
  },
  {
   "cell_type": "code",
   "execution_count": 6,
   "metadata": {},
   "outputs": [
    {
     "data": {
      "text/html": [
       "<div>\n",
       "<style scoped>\n",
       "    .dataframe tbody tr th:only-of-type {\n",
       "        vertical-align: middle;\n",
       "    }\n",
       "\n",
       "    .dataframe tbody tr th {\n",
       "        vertical-align: top;\n",
       "    }\n",
       "\n",
       "    .dataframe thead th {\n",
       "        text-align: right;\n",
       "    }\n",
       "</style>\n",
       "<table border=\"1\" class=\"dataframe\">\n",
       "  <thead>\n",
       "    <tr style=\"text-align: right;\">\n",
       "      <th></th>\n",
       "      <th>index</th>\n",
       "      <th>Post Code</th>\n",
       "      <th>Borough</th>\n",
       "      <th>Neighborhood</th>\n",
       "    </tr>\n",
       "  </thead>\n",
       "  <tbody>\n",
       "  </tbody>\n",
       "</table>\n",
       "</div>"
      ],
      "text/plain": [
       "Empty DataFrame\n",
       "Columns: [index, Post Code, Borough, Neighborhood]\n",
       "Index: []"
      ]
     },
     "execution_count": 6,
     "metadata": {},
     "output_type": "execute_result"
    }
   ],
   "source": [
    "df[df['Borough'] == 'Not assigned']"
   ]
  },
  {
   "cell_type": "code",
   "execution_count": 7,
   "metadata": {},
   "outputs": [
    {
     "data": {
      "text/plain": [
       "(103, 4)"
      ]
     },
     "execution_count": 7,
     "metadata": {},
     "output_type": "execute_result"
    }
   ],
   "source": [
    "df.shape"
   ]
  },
  {
   "cell_type": "markdown",
   "metadata": {},
   "source": [
    "# Part 2"
   ]
  },
  {
   "cell_type": "code",
   "execution_count": 8,
   "metadata": {},
   "outputs": [
    {
     "name": "stdout",
     "output_type": "stream",
     "text": [
      "Requirement already satisfied: geocoder in c:\\users\\abhar\\anaconda\\lib\\site-packages (1.38.1)\n",
      "Requirement already satisfied: six in c:\\users\\abhar\\anaconda\\lib\\site-packages (from geocoder) (1.14.0)\n",
      "Requirement already satisfied: ratelim in c:\\users\\abhar\\anaconda\\lib\\site-packages (from geocoder) (0.1.6)\n",
      "Requirement already satisfied: future in c:\\users\\abhar\\anaconda\\lib\\site-packages (from geocoder) (0.18.2)\n",
      "Requirement already satisfied: click in c:\\users\\abhar\\anaconda\\lib\\site-packages (from geocoder) (7.0)\n",
      "Requirement already satisfied: requests in c:\\users\\abhar\\anaconda\\lib\\site-packages (from geocoder) (2.22.0)\n",
      "Requirement already satisfied: decorator in c:\\users\\abhar\\anaconda\\lib\\site-packages (from ratelim->geocoder) (4.4.1)\n",
      "Requirement already satisfied: idna<2.9,>=2.5 in c:\\users\\abhar\\anaconda\\lib\\site-packages (from requests->geocoder) (2.8)\n",
      "Requirement already satisfied: urllib3!=1.25.0,!=1.25.1,<1.26,>=1.21.1 in c:\\users\\abhar\\anaconda\\lib\\site-packages (from requests->geocoder) (1.25.8)\n",
      "Requirement already satisfied: certifi>=2017.4.17 in c:\\users\\abhar\\anaconda\\lib\\site-packages (from requests->geocoder) (2019.11.28)\n",
      "Requirement already satisfied: chardet<3.1.0,>=3.0.2 in c:\\users\\abhar\\anaconda\\lib\\site-packages (from requests->geocoder) (3.0.4)\n",
      "Note: you may need to restart the kernel to use updated packages.\n"
     ]
    }
   ],
   "source": [
    "pip install geocoder"
   ]
  },
  {
   "cell_type": "code",
   "execution_count": 9,
   "metadata": {},
   "outputs": [],
   "source": [
    "import geocoder"
   ]
  },
  {
   "cell_type": "code",
   "execution_count": 10,
   "metadata": {},
   "outputs": [],
   "source": [
    "url = 'http://cocl.us/Geospatial_data'"
   ]
  },
  {
   "cell_type": "code",
   "execution_count": 11,
   "metadata": {},
   "outputs": [
    {
     "data": {
      "text/html": [
       "<div>\n",
       "<style scoped>\n",
       "    .dataframe tbody tr th:only-of-type {\n",
       "        vertical-align: middle;\n",
       "    }\n",
       "\n",
       "    .dataframe tbody tr th {\n",
       "        vertical-align: top;\n",
       "    }\n",
       "\n",
       "    .dataframe thead th {\n",
       "        text-align: right;\n",
       "    }\n",
       "</style>\n",
       "<table border=\"1\" class=\"dataframe\">\n",
       "  <thead>\n",
       "    <tr style=\"text-align: right;\">\n",
       "      <th></th>\n",
       "      <th>Postal Code</th>\n",
       "      <th>Latitude</th>\n",
       "      <th>Longitude</th>\n",
       "    </tr>\n",
       "  </thead>\n",
       "  <tbody>\n",
       "    <tr>\n",
       "      <th>0</th>\n",
       "      <td>M1B</td>\n",
       "      <td>43.806686</td>\n",
       "      <td>-79.194353</td>\n",
       "    </tr>\n",
       "    <tr>\n",
       "      <th>1</th>\n",
       "      <td>M1C</td>\n",
       "      <td>43.784535</td>\n",
       "      <td>-79.160497</td>\n",
       "    </tr>\n",
       "    <tr>\n",
       "      <th>2</th>\n",
       "      <td>M1E</td>\n",
       "      <td>43.763573</td>\n",
       "      <td>-79.188711</td>\n",
       "    </tr>\n",
       "    <tr>\n",
       "      <th>3</th>\n",
       "      <td>M1G</td>\n",
       "      <td>43.770992</td>\n",
       "      <td>-79.216917</td>\n",
       "    </tr>\n",
       "    <tr>\n",
       "      <th>4</th>\n",
       "      <td>M1H</td>\n",
       "      <td>43.773136</td>\n",
       "      <td>-79.239476</td>\n",
       "    </tr>\n",
       "  </tbody>\n",
       "</table>\n",
       "</div>"
      ],
      "text/plain": [
       "  Postal Code   Latitude  Longitude\n",
       "0         M1B  43.806686 -79.194353\n",
       "1         M1C  43.784535 -79.160497\n",
       "2         M1E  43.763573 -79.188711\n",
       "3         M1G  43.770992 -79.216917\n",
       "4         M1H  43.773136 -79.239476"
      ]
     },
     "execution_count": 11,
     "metadata": {},
     "output_type": "execute_result"
    }
   ],
   "source": [
    "df_geo = pd.read_csv(url)\n",
    "df_geo.head()"
   ]
  },
  {
   "cell_type": "markdown",
   "metadata": {},
   "source": [
    "Checking dtypes of our columns"
   ]
  },
  {
   "cell_type": "code",
   "execution_count": 11,
   "metadata": {},
   "outputs": [
    {
     "data": {
      "text/plain": [
       "Postal Code     object\n",
       "Latitude       float64\n",
       "Longitude      float64\n",
       "dtype: object"
      ]
     },
     "execution_count": 11,
     "metadata": {},
     "output_type": "execute_result"
    }
   ],
   "source": [
    "df_geo.dtypes"
   ]
  },
  {
   "cell_type": "code",
   "execution_count": 12,
   "metadata": {},
   "outputs": [
    {
     "data": {
      "text/plain": [
       "index            int64\n",
       "Postal Code     object\n",
       "Borough         object\n",
       "Neighborhood    object\n",
       "dtype: object"
      ]
     },
     "execution_count": 12,
     "metadata": {},
     "output_type": "execute_result"
    }
   ],
   "source": [
    "df.dtypes"
   ]
  },
  {
   "cell_type": "markdown",
   "metadata": {},
   "source": [
    "Shapes of both our Dataframes"
   ]
  },
  {
   "cell_type": "code",
   "execution_count": 12,
   "metadata": {},
   "outputs": [
    {
     "data": {
      "text/plain": [
       "(103, 4)"
      ]
     },
     "execution_count": 12,
     "metadata": {},
     "output_type": "execute_result"
    }
   ],
   "source": [
    "df.shape"
   ]
  },
  {
   "cell_type": "code",
   "execution_count": 13,
   "metadata": {},
   "outputs": [
    {
     "data": {
      "text/plain": [
       "(103, 3)"
      ]
     },
     "execution_count": 13,
     "metadata": {},
     "output_type": "execute_result"
    }
   ],
   "source": [
    "df_geo.shape"
   ]
  },
  {
   "cell_type": "markdown",
   "metadata": {},
   "source": [
    "Joining both df's and doing some cleaning"
   ]
  },
  {
   "cell_type": "code",
   "execution_count": 15,
   "metadata": {},
   "outputs": [
    {
     "data": {
      "text/html": [
       "<div>\n",
       "<style scoped>\n",
       "    .dataframe tbody tr th:only-of-type {\n",
       "        vertical-align: middle;\n",
       "    }\n",
       "\n",
       "    .dataframe tbody tr th {\n",
       "        vertical-align: top;\n",
       "    }\n",
       "\n",
       "    .dataframe thead th {\n",
       "        text-align: right;\n",
       "    }\n",
       "</style>\n",
       "<table border=\"1\" class=\"dataframe\">\n",
       "  <thead>\n",
       "    <tr style=\"text-align: right;\">\n",
       "      <th></th>\n",
       "      <th>index</th>\n",
       "      <th>Post Code</th>\n",
       "      <th>Borough</th>\n",
       "      <th>Neighborhood</th>\n",
       "      <th>Latitude</th>\n",
       "      <th>Longitude</th>\n",
       "    </tr>\n",
       "  </thead>\n",
       "  <tbody>\n",
       "    <tr>\n",
       "      <th>0</th>\n",
       "      <td>2</td>\n",
       "      <td>M3A</td>\n",
       "      <td>North York</td>\n",
       "      <td>Parkwoods</td>\n",
       "      <td>43.753259</td>\n",
       "      <td>-79.329656</td>\n",
       "    </tr>\n",
       "    <tr>\n",
       "      <th>1</th>\n",
       "      <td>3</td>\n",
       "      <td>M4A</td>\n",
       "      <td>North York</td>\n",
       "      <td>Victoria Village</td>\n",
       "      <td>43.725882</td>\n",
       "      <td>-79.315572</td>\n",
       "    </tr>\n",
       "    <tr>\n",
       "      <th>2</th>\n",
       "      <td>4</td>\n",
       "      <td>M5A</td>\n",
       "      <td>Downtown Toronto</td>\n",
       "      <td>Regent Park, Harbourfront</td>\n",
       "      <td>43.654260</td>\n",
       "      <td>-79.360636</td>\n",
       "    </tr>\n",
       "    <tr>\n",
       "      <th>3</th>\n",
       "      <td>5</td>\n",
       "      <td>M6A</td>\n",
       "      <td>North York</td>\n",
       "      <td>Lawrence Manor, Lawrence Heights</td>\n",
       "      <td>43.718518</td>\n",
       "      <td>-79.464763</td>\n",
       "    </tr>\n",
       "    <tr>\n",
       "      <th>4</th>\n",
       "      <td>6</td>\n",
       "      <td>M7A</td>\n",
       "      <td>Downtown Toronto</td>\n",
       "      <td>Queen's Park, Ontario Provincial Government</td>\n",
       "      <td>43.662301</td>\n",
       "      <td>-79.389494</td>\n",
       "    </tr>\n",
       "    <tr>\n",
       "      <th>...</th>\n",
       "      <td>...</td>\n",
       "      <td>...</td>\n",
       "      <td>...</td>\n",
       "      <td>...</td>\n",
       "      <td>...</td>\n",
       "      <td>...</td>\n",
       "    </tr>\n",
       "    <tr>\n",
       "      <th>98</th>\n",
       "      <td>160</td>\n",
       "      <td>M8X</td>\n",
       "      <td>Etobicoke</td>\n",
       "      <td>The Kingsway, Montgomery Road, Old Mill North</td>\n",
       "      <td>43.653654</td>\n",
       "      <td>-79.506944</td>\n",
       "    </tr>\n",
       "    <tr>\n",
       "      <th>99</th>\n",
       "      <td>165</td>\n",
       "      <td>M4Y</td>\n",
       "      <td>Downtown Toronto</td>\n",
       "      <td>Church and Wellesley</td>\n",
       "      <td>43.665860</td>\n",
       "      <td>-79.383160</td>\n",
       "    </tr>\n",
       "    <tr>\n",
       "      <th>100</th>\n",
       "      <td>168</td>\n",
       "      <td>M7Y</td>\n",
       "      <td>East Toronto</td>\n",
       "      <td>Business reply mail Processing Centre, South C...</td>\n",
       "      <td>43.662744</td>\n",
       "      <td>-79.321558</td>\n",
       "    </tr>\n",
       "    <tr>\n",
       "      <th>101</th>\n",
       "      <td>169</td>\n",
       "      <td>M8Y</td>\n",
       "      <td>Etobicoke</td>\n",
       "      <td>Old Mill South, King's Mill Park, Sunnylea, Hu...</td>\n",
       "      <td>43.636258</td>\n",
       "      <td>-79.498509</td>\n",
       "    </tr>\n",
       "    <tr>\n",
       "      <th>102</th>\n",
       "      <td>178</td>\n",
       "      <td>M8Z</td>\n",
       "      <td>Etobicoke</td>\n",
       "      <td>Mimico NW, The Queensway West, South of Bloor,...</td>\n",
       "      <td>43.628841</td>\n",
       "      <td>-79.520999</td>\n",
       "    </tr>\n",
       "  </tbody>\n",
       "</table>\n",
       "<p>103 rows × 6 columns</p>\n",
       "</div>"
      ],
      "text/plain": [
       "     index Post Code           Borough  \\\n",
       "0        2       M3A        North York   \n",
       "1        3       M4A        North York   \n",
       "2        4       M5A  Downtown Toronto   \n",
       "3        5       M6A        North York   \n",
       "4        6       M7A  Downtown Toronto   \n",
       "..     ...       ...               ...   \n",
       "98     160       M8X         Etobicoke   \n",
       "99     165       M4Y  Downtown Toronto   \n",
       "100    168       M7Y      East Toronto   \n",
       "101    169       M8Y         Etobicoke   \n",
       "102    178       M8Z         Etobicoke   \n",
       "\n",
       "                                          Neighborhood   Latitude  Longitude  \n",
       "0                                            Parkwoods  43.753259 -79.329656  \n",
       "1                                     Victoria Village  43.725882 -79.315572  \n",
       "2                            Regent Park, Harbourfront  43.654260 -79.360636  \n",
       "3                     Lawrence Manor, Lawrence Heights  43.718518 -79.464763  \n",
       "4          Queen's Park, Ontario Provincial Government  43.662301 -79.389494  \n",
       "..                                                 ...        ...        ...  \n",
       "98       The Kingsway, Montgomery Road, Old Mill North  43.653654 -79.506944  \n",
       "99                                Church and Wellesley  43.665860 -79.383160  \n",
       "100  Business reply mail Processing Centre, South C...  43.662744 -79.321558  \n",
       "101  Old Mill South, King's Mill Park, Sunnylea, Hu...  43.636258 -79.498509  \n",
       "102  Mimico NW, The Queensway West, South of Bloor,...  43.628841 -79.520999  \n",
       "\n",
       "[103 rows x 6 columns]"
      ]
     },
     "execution_count": 15,
     "metadata": {},
     "output_type": "execute_result"
    }
   ],
   "source": [
    "df = df.join(df_geo.set_index('Postal Code'), on='Post Code')\n",
    "df"
   ]
  },
  {
   "cell_type": "code",
   "execution_count": 16,
   "metadata": {},
   "outputs": [],
   "source": [
    "df = df.reset_index()"
   ]
  },
  {
   "cell_type": "code",
   "execution_count": 17,
   "metadata": {},
   "outputs": [],
   "source": [
    "df.drop(['index'], axis = 'columns', inplace = True)"
   ]
  },
  {
   "cell_type": "code",
   "execution_count": 18,
   "metadata": {},
   "outputs": [],
   "source": [
    "df = df.set_index('level_0')"
   ]
  },
  {
   "cell_type": "code",
   "execution_count": 19,
   "metadata": {
    "scrolled": true
   },
   "outputs": [
    {
     "data": {
      "text/html": [
       "<div>\n",
       "<style scoped>\n",
       "    .dataframe tbody tr th:only-of-type {\n",
       "        vertical-align: middle;\n",
       "    }\n",
       "\n",
       "    .dataframe tbody tr th {\n",
       "        vertical-align: top;\n",
       "    }\n",
       "\n",
       "    .dataframe thead th {\n",
       "        text-align: right;\n",
       "    }\n",
       "</style>\n",
       "<table border=\"1\" class=\"dataframe\">\n",
       "  <thead>\n",
       "    <tr style=\"text-align: right;\">\n",
       "      <th></th>\n",
       "      <th>Post Code</th>\n",
       "      <th>Borough</th>\n",
       "      <th>Neighborhood</th>\n",
       "      <th>Latitude</th>\n",
       "      <th>Longitude</th>\n",
       "    </tr>\n",
       "    <tr>\n",
       "      <th>level_0</th>\n",
       "      <th></th>\n",
       "      <th></th>\n",
       "      <th></th>\n",
       "      <th></th>\n",
       "      <th></th>\n",
       "    </tr>\n",
       "  </thead>\n",
       "  <tbody>\n",
       "    <tr>\n",
       "      <th>0</th>\n",
       "      <td>M3A</td>\n",
       "      <td>North York</td>\n",
       "      <td>Parkwoods</td>\n",
       "      <td>43.753259</td>\n",
       "      <td>-79.329656</td>\n",
       "    </tr>\n",
       "    <tr>\n",
       "      <th>1</th>\n",
       "      <td>M4A</td>\n",
       "      <td>North York</td>\n",
       "      <td>Victoria Village</td>\n",
       "      <td>43.725882</td>\n",
       "      <td>-79.315572</td>\n",
       "    </tr>\n",
       "    <tr>\n",
       "      <th>2</th>\n",
       "      <td>M5A</td>\n",
       "      <td>Downtown Toronto</td>\n",
       "      <td>Regent Park, Harbourfront</td>\n",
       "      <td>43.654260</td>\n",
       "      <td>-79.360636</td>\n",
       "    </tr>\n",
       "    <tr>\n",
       "      <th>3</th>\n",
       "      <td>M6A</td>\n",
       "      <td>North York</td>\n",
       "      <td>Lawrence Manor, Lawrence Heights</td>\n",
       "      <td>43.718518</td>\n",
       "      <td>-79.464763</td>\n",
       "    </tr>\n",
       "    <tr>\n",
       "      <th>4</th>\n",
       "      <td>M7A</td>\n",
       "      <td>Downtown Toronto</td>\n",
       "      <td>Queen's Park, Ontario Provincial Government</td>\n",
       "      <td>43.662301</td>\n",
       "      <td>-79.389494</td>\n",
       "    </tr>\n",
       "  </tbody>\n",
       "</table>\n",
       "</div>"
      ],
      "text/plain": [
       "        Post Code           Borough  \\\n",
       "level_0                               \n",
       "0             M3A        North York   \n",
       "1             M4A        North York   \n",
       "2             M5A  Downtown Toronto   \n",
       "3             M6A        North York   \n",
       "4             M7A  Downtown Toronto   \n",
       "\n",
       "                                        Neighborhood   Latitude  Longitude  \n",
       "level_0                                                                     \n",
       "0                                          Parkwoods  43.753259 -79.329656  \n",
       "1                                   Victoria Village  43.725882 -79.315572  \n",
       "2                          Regent Park, Harbourfront  43.654260 -79.360636  \n",
       "3                   Lawrence Manor, Lawrence Heights  43.718518 -79.464763  \n",
       "4        Queen's Park, Ontario Provincial Government  43.662301 -79.389494  "
      ]
     },
     "execution_count": 19,
     "metadata": {},
     "output_type": "execute_result"
    }
   ],
   "source": [
    "df.head()"
   ]
  },
  {
   "cell_type": "code",
   "execution_count": 20,
   "metadata": {},
   "outputs": [],
   "source": [
    "df = df.rename(index = {'level_0' : 'index'})"
   ]
  },
  {
   "cell_type": "code",
   "execution_count": 21,
   "metadata": {},
   "outputs": [],
   "source": [
    "df.index.name = 'index'"
   ]
  },
  {
   "cell_type": "code",
   "execution_count": 22,
   "metadata": {},
   "outputs": [
    {
     "data": {
      "text/html": [
       "<div>\n",
       "<style scoped>\n",
       "    .dataframe tbody tr th:only-of-type {\n",
       "        vertical-align: middle;\n",
       "    }\n",
       "\n",
       "    .dataframe tbody tr th {\n",
       "        vertical-align: top;\n",
       "    }\n",
       "\n",
       "    .dataframe thead th {\n",
       "        text-align: right;\n",
       "    }\n",
       "</style>\n",
       "<table border=\"1\" class=\"dataframe\">\n",
       "  <thead>\n",
       "    <tr style=\"text-align: right;\">\n",
       "      <th></th>\n",
       "      <th>Post Code</th>\n",
       "      <th>Borough</th>\n",
       "      <th>Neighborhood</th>\n",
       "      <th>Latitude</th>\n",
       "      <th>Longitude</th>\n",
       "    </tr>\n",
       "    <tr>\n",
       "      <th>index</th>\n",
       "      <th></th>\n",
       "      <th></th>\n",
       "      <th></th>\n",
       "      <th></th>\n",
       "      <th></th>\n",
       "    </tr>\n",
       "  </thead>\n",
       "  <tbody>\n",
       "    <tr>\n",
       "      <th>0</th>\n",
       "      <td>M3A</td>\n",
       "      <td>North York</td>\n",
       "      <td>Parkwoods</td>\n",
       "      <td>43.753259</td>\n",
       "      <td>-79.329656</td>\n",
       "    </tr>\n",
       "    <tr>\n",
       "      <th>1</th>\n",
       "      <td>M4A</td>\n",
       "      <td>North York</td>\n",
       "      <td>Victoria Village</td>\n",
       "      <td>43.725882</td>\n",
       "      <td>-79.315572</td>\n",
       "    </tr>\n",
       "    <tr>\n",
       "      <th>2</th>\n",
       "      <td>M5A</td>\n",
       "      <td>Downtown Toronto</td>\n",
       "      <td>Regent Park, Harbourfront</td>\n",
       "      <td>43.654260</td>\n",
       "      <td>-79.360636</td>\n",
       "    </tr>\n",
       "    <tr>\n",
       "      <th>3</th>\n",
       "      <td>M6A</td>\n",
       "      <td>North York</td>\n",
       "      <td>Lawrence Manor, Lawrence Heights</td>\n",
       "      <td>43.718518</td>\n",
       "      <td>-79.464763</td>\n",
       "    </tr>\n",
       "    <tr>\n",
       "      <th>4</th>\n",
       "      <td>M7A</td>\n",
       "      <td>Downtown Toronto</td>\n",
       "      <td>Queen's Park, Ontario Provincial Government</td>\n",
       "      <td>43.662301</td>\n",
       "      <td>-79.389494</td>\n",
       "    </tr>\n",
       "  </tbody>\n",
       "</table>\n",
       "</div>"
      ],
      "text/plain": [
       "      Post Code           Borough  \\\n",
       "index                               \n",
       "0           M3A        North York   \n",
       "1           M4A        North York   \n",
       "2           M5A  Downtown Toronto   \n",
       "3           M6A        North York   \n",
       "4           M7A  Downtown Toronto   \n",
       "\n",
       "                                      Neighborhood   Latitude  Longitude  \n",
       "index                                                                     \n",
       "0                                        Parkwoods  43.753259 -79.329656  \n",
       "1                                 Victoria Village  43.725882 -79.315572  \n",
       "2                        Regent Park, Harbourfront  43.654260 -79.360636  \n",
       "3                 Lawrence Manor, Lawrence Heights  43.718518 -79.464763  \n",
       "4      Queen's Park, Ontario Provincial Government  43.662301 -79.389494  "
      ]
     },
     "execution_count": 22,
     "metadata": {},
     "output_type": "execute_result"
    }
   ],
   "source": [
    "df.head()"
   ]
  },
  {
   "cell_type": "code",
   "execution_count": 23,
   "metadata": {},
   "outputs": [
    {
     "data": {
      "text/plain": [
       "(103, 5)"
      ]
     },
     "execution_count": 23,
     "metadata": {},
     "output_type": "execute_result"
    }
   ],
   "source": [
    "df.shape"
   ]
  },
  {
   "cell_type": "code",
   "execution_count": 25,
   "metadata": {},
   "outputs": [],
   "source": [
    "import numpy as np\n",
    "import requests # library to handle requests\n",
    "from pandas.io.json import json_normalize # tranform JSON file into a pandas dataframe\n",
    "import pandas as pd\n",
    "# Matplotlib and associated plotting modules\n",
    "import matplotlib.cm as cm\n",
    "import matplotlib.colors as colors\n",
    "\n",
    "# import k-means from clustering stage\n",
    "from sklearn.cluster import KMeans\n",
    "\n",
    "#!conda install -c conda-forge folium=0.5.0 --yes # uncomment this line if you haven't completed the Foursquare API lab\n",
    "import folium # map rendering library\n",
    "\n",
    "import geocoder"
   ]
  },
  {
   "cell_type": "code",
   "execution_count": 26,
   "metadata": {},
   "outputs": [],
   "source": [
    "def get_latlng(postal_code):\n",
    "    # initialize your variable to None\n",
    "    lat_lng_coords = None\n",
    "    # loop until you get the coordinates\n",
    "    while(lat_lng_coords is None):\n",
    "        g = geocoder.arcgis('{}, Toronto, Ontario'.format(postal_code))\n",
    "        lat_lng_coords = g.latlng\n",
    "    return lat_lng_coords\n",
    "    \n",
    "location = get_latlng('M4G')"
   ]
  },
  {
   "cell_type": "code",
   "execution_count": 27,
   "metadata": {},
   "outputs": [
    {
     "name": "stdout",
     "output_type": "stream",
     "text": [
      "The dataframe has 10 boroughs and 103 neighborhoods.\n"
     ]
    }
   ],
   "source": [
    "print('The dataframe has {} boroughs and {} neighborhoods.'.format(\n",
    "        len(df ['Borough'].unique()),\n",
    "        df .shape[0]\n",
    "    )\n",
    ")"
   ]
  },
  {
   "cell_type": "code",
   "execution_count": 28,
   "metadata": {},
   "outputs": [
    {
     "data": {
      "text/html": [
       "<div style=\"width:100%;\"><div style=\"position:relative;width:100%;height:0;padding-bottom:60%;\"><span style=\"color:#565656\">Make this Notebook Trusted to load map: File -> Trust Notebook</span><iframe src=\"about:blank\" style=\"position:absolute;width:100%;height:100%;left:0;top:0;border:none !important;\" data-html=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 onload=\"this.contentDocument.open();this.contentDocument.write(atob(this.getAttribute('data-html')));this.contentDocument.close();\" allowfullscreen webkitallowfullscreen mozallowfullscreen></iframe></div></div>"
      ],
      "text/plain": [
       "<folium.folium.Map at 0x21e283a3188>"
      ]
     },
     "execution_count": 28,
     "metadata": {},
     "output_type": "execute_result"
    }
   ],
   "source": [
    "toronto_map = folium.Map(location=[43.65, -79.4], zoom_start=12)\n",
    "\n",
    "X = df['Latitude']\n",
    "Y = df['Longitude']\n",
    "Z = np.stack((X, Y), axis=1)\n",
    "\n",
    "kmeans = KMeans(n_clusters=4, random_state=0).fit(Z)\n",
    "\n",
    "clusters = kmeans.labels_\n",
    "colors = ['red', 'green', 'blue', 'yellow']\n",
    "df['Cluster'] = clusters\n",
    "\n",
    "for latitude, longitude, borough, cluster in zip(df['Latitude'], df['Longitude'], df['Borough'], df['Cluster']):\n",
    "    label = folium.Popup(borough, parse_html=True)\n",
    "    folium.CircleMarker(\n",
    "        [latitude, longitude],\n",
    "        radius=5,\n",
    "        popup=label,\n",
    "        color='black',\n",
    "        fill=True,\n",
    "        fill_color=colors[cluster],\n",
    "        fill_opacity=0.7).add_to(toronto_map)  \n",
    "\n",
    "toronto_map"
   ]
  },
  {
   "cell_type": "code",
   "execution_count": null,
   "metadata": {},
   "outputs": [],
   "source": []
  }
 ],
 "metadata": {
  "kernelspec": {
   "display_name": "Python 3",
   "language": "python",
   "name": "python3"
  },
  "language_info": {
   "codemirror_mode": {
    "name": "ipython",
    "version": 3
   },
   "file_extension": ".py",
   "mimetype": "text/x-python",
   "name": "python",
   "nbconvert_exporter": "python",
   "pygments_lexer": "ipython3",
   "version": "3.7.6"
  }
 },
 "nbformat": 4,
 "nbformat_minor": 4
}
